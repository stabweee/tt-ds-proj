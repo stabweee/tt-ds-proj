{
 "cells": [
  {
   "cell_type": "markdown",
   "metadata": {},
   "source": [
    "# Progression Analysis"
   ]
  },
  {
   "cell_type": "code",
   "execution_count": 1,
   "metadata": {},
   "outputs": [],
   "source": [
    "import numpy as np\n",
    "import pandas as pd\n",
    "from datetime import timedelta\n",
    "from datetime import date\n",
    "import matplotlib.pyplot as plt\n",
    "\n",
    "import sys\n",
    "sys.path.insert(0, '../load_data')\n",
    "from load import load_stats, load_history\n",
    "\n",
    "pd.options.mode.chained_assignment = None"
   ]
  },
  {
   "cell_type": "markdown",
   "metadata": {},
   "source": [
    "## Load Data"
   ]
  },
  {
   "cell_type": "code",
   "execution_count": 2,
   "metadata": {},
   "outputs": [],
   "source": [
    "players = load_stats()\n",
    "history = load_history()"
   ]
  },
  {
   "cell_type": "markdown",
   "metadata": {},
   "source": [
    "## Functions"
   ]
  },
  {
   "cell_type": "code",
   "execution_count": 3,
   "metadata": {},
   "outputs": [],
   "source": [
    "def zero_to_x_time(player, minrating):\n",
    "    try:\n",
    "        r_hist = history[history['USATT#'] == player['USATT#']]\n",
    "        over = r_hist[r_hist['Final Rating'] >= minrating]\n",
    "        return (over.loc(axis=0)[over.index[-1], 'Start Date'] - r_hist.loc(axis=0)[r_hist.index[-1], 'Start Date']).days\n",
    "    except IndexError:\n",
    "        return pd.NA\n",
    "    \n",
    "def x_to_x_time(player, x1, x2):\n",
    "    e_r_hist = history[history['USATT#'] == player['USATT#']]\n",
    "\n",
    "    if x1 > x2:\n",
    "        raise ValueError('Initial Rating must be lower than Final Rating')\n",
    "    if e_r_hist[e_r_hist['Final Rating'] > x1].empty or e_r_hist[e_r_hist['Final Rating'] > x2].empty:\n",
    "        return pd.NA\n",
    "    \n",
    "    x1index = e_r_hist[e_r_hist['Final Rating'] >= x1].index[-1]\n",
    "    x2index = e_r_hist[e_r_hist['Final Rating'] >= x2].index[-1]\n",
    "    r_hist = e_r_hist.loc[x2index:x1index]\n",
    "    return (r_hist.loc[r_hist.index[0], 'Start Date'] - r_hist.loc[r_hist.index[-1], 'Start Date']).days\n",
    "\n",
    "def age_by_x(player, r):\n",
    "    r_hist = history[history['USATT#'] == player['USATT#']]\n",
    "    scope = r_hist[r_hist['Final Rating'] > r]\n",
    "    try:\n",
    "        return (scope.loc[scope.index[-1], 'Start Date'] - player['Date of Birth']).days\n",
    "    except IndexError:\n",
    "        return pd.NaT\n",
    "\n",
    "def is_top_junior(player, male_top_junior_rating, female_top_junior_rating):\n",
    "    if player['Gender'] == 'M':\n",
    "        age_by_rating = age_by_x(player, male_top_junior_rating)\n",
    "    elif player['Gender'] == 'F':\n",
    "        age_by_rating = age_by_x(player, female_top_junior_rating)\n",
    "    else:\n",
    "        return pd.NA\n",
    "    \n",
    "    if age_by_rating is pd.NaT:\n",
    "        return False\n",
    "    return age_by_rating < timedelta(days=19*365).days\n",
    "\n",
    "def get_top_junior_stats(minrating, rating_male, rating_female):\n",
    "    players['Top Junior Player'] = players.apply(is_top_junior, args=(rating_male, rating_female), axis=1)\n",
    "    scope = players[(players[f'0-{minrating}'].notna()) & (players[f'0-{minrating}'] != 0)]\n",
    "    top_juniors = scope[scope['Top Junior Player']]\n",
    "    others = scope[scope['Top Junior Player'] == False]\n",
    "    return [rating_male, rating_female, len(top_juniors), len(others), top_juniors[f'0-{minrating}'].mean(), others[f'0-{minrating}'].mean()]\n",
    "\n",
    "def print_top_junior_stats(stats, minrating):\n",
    "    print(f'Male Top Junior Min Rating: {stats[0]}')\n",
    "    print(f'Female Top Junior Min Rating: {stats[1]}')\n",
    "    print(f'Top Junior Count: {stats[2]}')\n",
    "    print(f'Others Count: {stats[3]}')\n",
    "    print(f'0-{minrating} avg num days:')\n",
    "    print(f'Top Juniors: {stats[4]}')\n",
    "    print(f'Everyone else: {stats[5]}')"
   ]
  },
  {
   "cell_type": "markdown",
   "metadata": {},
   "source": [
    "## Test Functions"
   ]
  },
  {
   "cell_type": "code",
   "execution_count": 4,
   "metadata": {},
   "outputs": [
    {
     "data": {
      "text/plain": [
       "Rank                                                       129\n",
       "First Name                                             Stanley\n",
       "Last Name                                                  Hsu\n",
       "Database#                                               102103\n",
       "USATT#                                                   97890\n",
       "Location                                     North Potomac, MD\n",
       "Home Club                 MDTTC - Maryland Table Tennis Center\n",
       "Tournament Rating                                         2509\n",
       "Last Played Tournament                     2024-08-25 00:00:00\n",
       "League Rating                                             2186\n",
       "Last Played League                         2020-02-07 00:00:00\n",
       "Membership Expiration                                   ACTIVE\n",
       "State                                                       MD\n",
       "Zip                                                      20878\n",
       "Gender                                                       M\n",
       "Date of Birth                              2008-09-25 00:00:00\n",
       "Expiration Date                                     2026-06-30\n",
       "Max Rating                                              2519.0\n",
       "Age                                         5872 days 00:00:00\n",
       "Tournaments Played                                        90.0\n",
       "Name: 125, dtype: object"
      ]
     },
     "execution_count": 4,
     "metadata": {},
     "output_type": "execute_result"
    }
   ],
   "source": [
    "me = players[players['Database#'] == 102103].iloc[0]\n",
    "me"
   ]
  },
  {
   "cell_type": "markdown",
   "metadata": {},
   "source": [
    "Zero to x rating time"
   ]
  },
  {
   "cell_type": "code",
   "execution_count": 5,
   "metadata": {},
   "outputs": [
    {
     "name": "stdout",
     "output_type": "stream",
     "text": [
      "Current max rating: 2519.0\n",
      "Unrated: 0 days\n",
      "Under current rating (2500): 3045 days\n",
      "Above current rating (2700): <NA> days\n"
     ]
    }
   ],
   "source": [
    "print(f'Current max rating: {me['Max Rating']}')\n",
    "print(f'Unrated: {zero_to_x_time(me, 0)} days')\n",
    "print(f'Under current rating (2500): {zero_to_x_time(me, 2500)} days')\n",
    "print(f'Above current rating (2700): {zero_to_x_time(me, 2700)} days')"
   ]
  },
  {
   "cell_type": "markdown",
   "metadata": {},
   "source": [
    "x to x rating time"
   ]
  },
  {
   "cell_type": "code",
   "execution_count": 6,
   "metadata": {},
   "outputs": [
    {
     "name": "stdout",
     "output_type": "stream",
     "text": [
      "Current max rating: 2519.0\n",
      "Unrated: 0 days\n",
      "Under current rating (2000-2500): 2063 days\n",
      "try intial rating greater than final rating:\n",
      "caught ValueError\n"
     ]
    }
   ],
   "source": [
    "print(f'Current max rating: {me['Max Rating']}')\n",
    "print(f'Unrated: {x_to_x_time(me, 0, 0)} days')\n",
    "print(f'Under current rating (2000-2500): {x_to_x_time(me, 2000, 2500)} days')\n",
    "print('try intial rating greater than final rating:')\n",
    "try:\n",
    "    print(f'{x_to_x_time(me, 3000, 2700)} days')\n",
    "except ValueError:\n",
    "    print('caught ValueError')"
   ]
  },
  {
   "cell_type": "markdown",
   "metadata": {},
   "source": [
    "age by x"
   ]
  },
  {
   "cell_type": "code",
   "execution_count": 7,
   "metadata": {},
   "outputs": [
    {
     "name": "stdout",
     "output_type": "stream",
     "text": [
      "Current age: 5872\n",
      "Unrated: 2585 days\n",
      "Under current rating (2500): 5637 days\n",
      "Above current rating (3000): NaT days\n"
     ]
    }
   ],
   "source": [
    "print(f'Current age: {me['Age'].days}')\n",
    "print(f'Unrated: {age_by_x(me, 0)} days')\n",
    "print(f'Under current rating (2500): {age_by_x(me, 2500)} days')\n",
    "print(f'Above current rating (3000): {age_by_x(me, 3000)} days')"
   ]
  },
  {
   "cell_type": "markdown",
   "metadata": {},
   "source": [
    "is top junior"
   ]
  },
  {
   "cell_type": "code",
   "execution_count": 8,
   "metadata": {},
   "outputs": [
    {
     "name": "stdout",
     "output_type": "stream",
     "text": [
      "Current age: 5872\n",
      "Gender: M\n",
      "Age by 2500: 5637 days\n",
      "19 years in days: 6935\n",
      "Is top junior (2500 cutoff): True\n"
     ]
    }
   ],
   "source": [
    "print(f'Current age: {me['Age'].days}')\n",
    "print(f'Gender: {me['Gender']}')\n",
    "print(f'Age by 2500: {age_by_x(me, 2500)} days')\n",
    "print(f'19 years in days: {timedelta(19*365).days}')\n",
    "print(f'Is top junior (2500 cutoff): {is_top_junior(me, 2500, 2500)}')"
   ]
  },
  {
   "cell_type": "code",
   "execution_count": 9,
   "metadata": {},
   "outputs": [
    {
     "name": "stdout",
     "output_type": "stream",
     "text": [
      "Current age: 10356\n",
      "Gender: F\n",
      "Age by 2500: 5390 days\n",
      "19 years in days: 6935\n",
      "Is top junior (2500 cutoff): True\n"
     ]
    }
   ],
   "source": [
    "test_female = players[players['Database#'] == 9030].iloc[0]\n",
    "print(f'Current age: {test_female['Age'].days}')\n",
    "print(f'Gender: {test_female['Gender']}')\n",
    "print(f'Age by 2500: {age_by_x(test_female, 2500)} days')\n",
    "print(f'19 years in days: {timedelta(19*365).days}')\n",
    "print(f'Is top junior (2500 cutoff): {is_top_junior(test_female, 2500, 2500)}')"
   ]
  },
  {
   "cell_type": "code",
   "execution_count": 10,
   "metadata": {},
   "outputs": [
    {
     "name": "stdout",
     "output_type": "stream",
     "text": [
      "Current age: 28054\n",
      "Gender: M\n",
      "Age by 2500: NaT days\n",
      "19 years in days: 6935\n",
      "Is top junior (2500 cutoff): False\n"
     ]
    }
   ],
   "source": [
    "test_noob = players[players['Database#'] == 8196].iloc[0]\n",
    "print(f'Current age: {test_noob['Age'].days}')\n",
    "print(f'Gender: {test_noob['Gender']}')\n",
    "print(f'Age by 2500: {age_by_x(test_noob, 2500)} days')\n",
    "print(f'19 years in days: {timedelta(19*365).days}')\n",
    "print(f'Is top junior (2500 cutoff): {is_top_junior(test_noob, 2500, 2500)}')"
   ]
  },
  {
   "cell_type": "markdown",
   "metadata": {},
   "source": [
    "## 2200 Pace"
   ]
  },
  {
   "cell_type": "code",
   "execution_count": 11,
   "metadata": {},
   "outputs": [],
   "source": [
    "minrating = 2200\n",
    "players[f'0-{minrating}'] = players.apply(zero_to_x_time, args=(minrating,), axis=1)\n",
    "players[f'Age by {minrating}'] = players.apply(age_by_x, args=(2200,), axis=1) # type: ignore\n",
    "top_junior_stats = pd.DataFrame(columns=['Male Min Rating', 'Female Min Rating', 'Top Junior Count', 'Others Count', '0-2200 Top Juniors', '0-2200 Others'])"
   ]
  },
  {
   "cell_type": "code",
   "execution_count": 12,
   "metadata": {},
   "outputs": [],
   "source": [
    "top_junior_stats.loc[len(top_junior_stats)] = get_top_junior_stats(minrating, 2500, 2500)"
   ]
  },
  {
   "cell_type": "code",
   "execution_count": 13,
   "metadata": {},
   "outputs": [],
   "source": [
    "top_junior_stats.loc[len(top_junior_stats)] = get_top_junior_stats(minrating, 2500, 2300)"
   ]
  },
  {
   "cell_type": "code",
   "execution_count": 14,
   "metadata": {},
   "outputs": [],
   "source": [
    "top_junior_stats.loc[len(top_junior_stats)] = get_top_junior_stats(minrating, 2500, 2200)"
   ]
  },
  {
   "cell_type": "code",
   "execution_count": 15,
   "metadata": {},
   "outputs": [],
   "source": [
    "top_junior_stats.loc[len(top_junior_stats)] = get_top_junior_stats(minrating, 2400, 2200)"
   ]
  },
  {
   "cell_type": "code",
   "execution_count": 16,
   "metadata": {},
   "outputs": [],
   "source": [
    "top_junior_stats.loc[len(top_junior_stats)] = get_top_junior_stats(minrating, 2300, 2200)"
   ]
  },
  {
   "cell_type": "code",
   "execution_count": 17,
   "metadata": {},
   "outputs": [],
   "source": [
    "top_junior_stats.loc[len(top_junior_stats)] = get_top_junior_stats(minrating, 2200, 2200)"
   ]
  },
  {
   "cell_type": "code",
   "execution_count": 18,
   "metadata": {},
   "outputs": [],
   "source": [
    "top_junior_stats.loc[len(top_junior_stats)] = get_top_junior_stats(minrating, 2250, 2200)"
   ]
  },
  {
   "cell_type": "markdown",
   "metadata": {},
   "source": [
    "## Data"
   ]
  },
  {
   "cell_type": "code",
   "execution_count": 19,
   "metadata": {},
   "outputs": [
    {
     "data": {
      "text/html": [
       "<div>\n",
       "<style scoped>\n",
       "    .dataframe tbody tr th:only-of-type {\n",
       "        vertical-align: middle;\n",
       "    }\n",
       "\n",
       "    .dataframe tbody tr th {\n",
       "        vertical-align: top;\n",
       "    }\n",
       "\n",
       "    .dataframe thead th {\n",
       "        text-align: right;\n",
       "    }\n",
       "</style>\n",
       "<table border=\"1\" class=\"dataframe\">\n",
       "  <thead>\n",
       "    <tr style=\"text-align: right;\">\n",
       "      <th></th>\n",
       "      <th>Male Min Rating</th>\n",
       "      <th>Female Min Rating</th>\n",
       "      <th>Top Junior Count</th>\n",
       "      <th>Others Count</th>\n",
       "      <th>0-2200 Top Juniors</th>\n",
       "      <th>0-2200 Others</th>\n",
       "      <th>0-2200 Difference</th>\n",
       "    </tr>\n",
       "  </thead>\n",
       "  <tbody>\n",
       "    <tr>\n",
       "      <th>0</th>\n",
       "      <td>2500.0</td>\n",
       "      <td>2500.0</td>\n",
       "      <td>38.0</td>\n",
       "      <td>470.0</td>\n",
       "      <td>1334.184211</td>\n",
       "      <td>1957.744681</td>\n",
       "      <td>623.560470</td>\n",
       "    </tr>\n",
       "    <tr>\n",
       "      <th>1</th>\n",
       "      <td>2500.0</td>\n",
       "      <td>2300.0</td>\n",
       "      <td>62.0</td>\n",
       "      <td>446.0</td>\n",
       "      <td>1531.225806</td>\n",
       "      <td>1963.908072</td>\n",
       "      <td>432.682265</td>\n",
       "    </tr>\n",
       "    <tr>\n",
       "      <th>2</th>\n",
       "      <td>2500.0</td>\n",
       "      <td>2200.0</td>\n",
       "      <td>91.0</td>\n",
       "      <td>417.0</td>\n",
       "      <td>1605.824176</td>\n",
       "      <td>1977.719424</td>\n",
       "      <td>371.895249</td>\n",
       "    </tr>\n",
       "    <tr>\n",
       "      <th>3</th>\n",
       "      <td>2400.0</td>\n",
       "      <td>2200.0</td>\n",
       "      <td>129.0</td>\n",
       "      <td>379.0</td>\n",
       "      <td>1580.271318</td>\n",
       "      <td>2023.704485</td>\n",
       "      <td>443.433168</td>\n",
       "    </tr>\n",
       "    <tr>\n",
       "      <th>4</th>\n",
       "      <td>2300.0</td>\n",
       "      <td>2200.0</td>\n",
       "      <td>178.0</td>\n",
       "      <td>330.0</td>\n",
       "      <td>1599.752809</td>\n",
       "      <td>2079.039394</td>\n",
       "      <td>479.286585</td>\n",
       "    </tr>\n",
       "    <tr>\n",
       "      <th>5</th>\n",
       "      <td>2200.0</td>\n",
       "      <td>2200.0</td>\n",
       "      <td>263.0</td>\n",
       "      <td>245.0</td>\n",
       "      <td>1582.015209</td>\n",
       "      <td>2264.363265</td>\n",
       "      <td>682.348056</td>\n",
       "    </tr>\n",
       "    <tr>\n",
       "      <th>6</th>\n",
       "      <td>2250.0</td>\n",
       "      <td>2200.0</td>\n",
       "      <td>223.0</td>\n",
       "      <td>285.0</td>\n",
       "      <td>1605.192825</td>\n",
       "      <td>2150.459649</td>\n",
       "      <td>545.266824</td>\n",
       "    </tr>\n",
       "  </tbody>\n",
       "</table>\n",
       "</div>"
      ],
      "text/plain": [
       "   Male Min Rating  Female Min Rating  Top Junior Count  Others Count  \\\n",
       "0           2500.0             2500.0              38.0         470.0   \n",
       "1           2500.0             2300.0              62.0         446.0   \n",
       "2           2500.0             2200.0              91.0         417.0   \n",
       "3           2400.0             2200.0             129.0         379.0   \n",
       "4           2300.0             2200.0             178.0         330.0   \n",
       "5           2200.0             2200.0             263.0         245.0   \n",
       "6           2250.0             2200.0             223.0         285.0   \n",
       "\n",
       "   0-2200 Top Juniors  0-2200 Others  0-2200 Difference  \n",
       "0         1334.184211    1957.744681         623.560470  \n",
       "1         1531.225806    1963.908072         432.682265  \n",
       "2         1605.824176    1977.719424         371.895249  \n",
       "3         1580.271318    2023.704485         443.433168  \n",
       "4         1599.752809    2079.039394         479.286585  \n",
       "5         1582.015209    2264.363265         682.348056  \n",
       "6         1605.192825    2150.459649         545.266824  "
      ]
     },
     "execution_count": 19,
     "metadata": {},
     "output_type": "execute_result"
    }
   ],
   "source": [
    "top_junior_stats['0-2200 Difference'] = top_junior_stats['0-2200 Others'] - top_junior_stats['0-2200 Top Juniors']\n",
    "top_junior_stats"
   ]
  },
  {
   "cell_type": "markdown",
   "metadata": {},
   "source": [
    "# Max rating by age started"
   ]
  },
  {
   "cell_type": "markdown",
   "metadata": {},
   "source": [
    "## Methods"
   ]
  },
  {
   "cell_type": "code",
   "execution_count": 20,
   "metadata": {},
   "outputs": [],
   "source": [
    "def age_started(player):\n",
    "    r_hist = history[history['USATT#'] == player['USATT#']]\n",
    "    try:\n",
    "        return r_hist.loc[r_hist.index[-1], 'Start Date'] - player['Date of Birth']\n",
    "    except IndexError:\n",
    "        return pd.NaT\n",
    "\n",
    "players['Age Started'] = players.apply(age_started, axis=1)"
   ]
  },
  {
   "cell_type": "markdown",
   "metadata": {},
   "source": [
    "## Test Methods"
   ]
  },
  {
   "cell_type": "code",
   "execution_count": 21,
   "metadata": {},
   "outputs": [
    {
     "name": "stdout",
     "output_type": "stream",
     "text": [
      "First tournament date: 2015-10-24 00:00:00\n",
      "Date of Birth: 2008-09-25 00:00:00\n",
      "Age started: 2585 days 00:00:00\n"
     ]
    }
   ],
   "source": [
    "my_history = history[history['Database#'] == me['Database#']]\n",
    "my_first_tournament = my_history.iloc[-1]\n",
    "print(f'First tournament date: {my_first_tournament['Start Date']}')\n",
    "print(f'Date of Birth: {me['Date of Birth']}')\n",
    "print(f'Age started: {age_started(me)}')"
   ]
  },
  {
   "cell_type": "markdown",
   "metadata": {},
   "source": [
    "## Analysis"
   ]
  },
  {
   "cell_type": "code",
   "execution_count": 22,
   "metadata": {},
   "outputs": [
    {
     "data": {
      "image/png": "[encoded data removed]",
      "text/plain": [
       "<Figure size 640x480 with 1 Axes>"
      ]
     },
     "metadata": {},
     "output_type": "display_data"
    }
   ],
   "source": [
    "kids = players[players['Age Started'] <= timedelta(19*365)].dropna()\n",
    "adults = players[players['Age Started'] > timedelta(19*365)].dropna()\n",
    "kids = kids[kids.notna()]\n",
    "adults = adults[adults.notna()]\n",
    "\n",
    "plt.boxplot([kids['Max Rating'], adults['Max Rating']], tick_labels=['Under 19', 'Over 19'])\n",
    "plt.title('Max Rating by Age Started')\n",
    "plt.xlabel('Age Started')\n",
    "plt.ylabel('Max Rating')\n",
    "plt.show()"
   ]
  },
  {
   "cell_type": "code",
   "execution_count": 23,
   "metadata": {},
   "outputs": [
    {
     "data": {
      "image/png": "[encoded data removed]",
      "text/plain": [
       "<Figure size 640x480 with 1 Axes>"
      ]
     },
     "metadata": {},
     "output_type": "display_data"
    },
    {
     "data": {
      "image/png": "[encoded data removed]",
      "text/plain": [
       "<Figure size 640x480 with 1 Axes>"
      ]
     },
     "metadata": {},
     "output_type": "display_data"
    }
   ],
   "source": [
    "def plotDistribution(arr, bins=50):\n",
    "    plt.title('Distribution')\n",
    "    plt.hist(arr, bins=bins)\n",
    "    plt.ylabel('Frequency')\n",
    "    plt.minorticks_on()\n",
    "    plt.show()\n",
    "\n",
    "plotDistribution(kids['Max Rating'])\n",
    "plotDistribution(adults['Max Rating'])"
   ]
  }
 ],
 "metadata": {
  "kernelspec": {
   "display_name": "Python 3",
   "language": "python",
   "name": "python3"
  },
  "language_info": {
   "codemirror_mode": {
    "name": "ipython",
    "version": 3
   },
   "file_extension": ".py",
   "mimetype": "text/x-python",
   "name": "python",
   "nbconvert_exporter": "python",
   "pygments_lexer": "ipython3",
   "version": "3.12.4"
  }
 },
 "nbformat": 4,
 "nbformat_minor": 2
}
