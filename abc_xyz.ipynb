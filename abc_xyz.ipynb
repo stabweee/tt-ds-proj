{
 "cells": [
  {
   "cell_type": "code",
   "execution_count": 98,
   "metadata": {},
   "outputs": [
    {
     "name": "stdout",
     "output_type": "stream",
     "text": [
      "abc wins: 66282\n",
      "xyz wins: 33718\n"
     ]
    }
   ],
   "source": [
    "import random\n",
    "\n",
    "class Team:    \n",
    "    def __init__(self):\n",
    "        self.p1 = 1\n",
    "        self.p2 = 2\n",
    "        self.p3 = 3\n",
    "\n",
    "def play_game(p1, p2):\n",
    "    if p1 == p2:\n",
    "        return random.choices([True, False], weights=(0.5, 0.5))\n",
    "    elif p1 == p2 + 1:\n",
    "        return random.choices([True, False], weights=(0.6, 0.4))\n",
    "    elif p1 == p2 + 2:\n",
    "        return random.choices([True, False], weights=(0.7, 0.3))\n",
    "    elif p1 == p2 - 1:\n",
    "        return random.choices([True, False], weights=(0.4, 0.6))\n",
    "    else:\n",
    "        return random.choices([True, False], weights=(0.3, 0.7))\n",
    "\n",
    "def play_team_match(abc, xyz):\n",
    "    a = abc.p1\n",
    "    b = abc.p1\n",
    "    c = abc.p1\n",
    "\n",
    "    x = xyz.p1\n",
    "    y = xyz.p1\n",
    "    z = xyz.p3\n",
    "    \n",
    "    abc_order = (a,b,c,b,a,c,b,c,a)\n",
    "    xyz_order = (x,y,z,x,z,y,z,x,y)\n",
    "    abc_win_count = 0\n",
    "    xyz_win_count = 0\n",
    "    for i in range(9):\n",
    "        if play_game(xyz_order[i], abc_order[i])[0]:\n",
    "            abc_win_count += 1\n",
    "        else:\n",
    "            xyz_win_count += 1\n",
    "\n",
    "        if abc_win_count == 5:\n",
    "            return 'abc'\n",
    "        if xyz_win_count == 5:\n",
    "            return 'xyz'\n",
    "\n",
    "abc_wins = 0\n",
    "xyz_wins = 0\n",
    "for i in range(100000):\n",
    "    abc = Team()\n",
    "    xyz = Team()\n",
    "\n",
    "    match = play_team_match(abc, xyz)\n",
    "    if match == 'abc':\n",
    "        abc_wins += 1\n",
    "    else:\n",
    "        xyz_wins += 1\n",
    "\n",
    "print(f'abc wins: {abc_wins}')\n",
    "print(f'xyz wins: {xyz_wins}')"
   ]
  }
 ],
 "metadata": {
  "kernelspec": {
   "display_name": "Python 3",
   "language": "python",
   "name": "python3"
  },
  "language_info": {
   "codemirror_mode": {
    "name": "ipython",
    "version": 3
   },
   "file_extension": ".py",
   "mimetype": "text/x-python",
   "name": "python",
   "nbconvert_exporter": "python",
   "pygments_lexer": "ipython3",
   "version": "3.12.4"
  }
 },
 "nbformat": 4,
 "nbformat_minor": 2
}
